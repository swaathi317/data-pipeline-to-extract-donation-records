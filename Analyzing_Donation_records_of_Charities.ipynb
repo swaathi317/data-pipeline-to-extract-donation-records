{
  "nbformat": 4,
  "nbformat_minor": 0,
  "metadata": {
    "colab": {
      "provenance": []
    },
    "kernelspec": {
      "name": "python3",
      "display_name": "Python 3"
    },
    "language_info": {
      "name": "python"
    }
  },
  "cells": [
    {
      "cell_type": "markdown",
      "source": [
        "Question to focus on\n",
        "- How many donations have the donors made every year? (2018 to 2021)\n",
        "- How many charities did the donor support each year? Also, get the total number of charities.\n",
        "- Does the location of the charity influence the donations? Find correlation of donor and charity location\n",
        "- Does the number of full-time employees in the charity affect the donations_amount and number of donation received?\n",
        "- Does presence of a website affect the donations? \n",
        "- What kind of charities are more likely to receive donation in kind?"
      ],
      "metadata": {
        "id": "UOyIKpkqluj3"
      }
    },
    {
      "cell_type": "code",
      "execution_count": 1,
      "metadata": {
        "id": "JEwICNO3lUGH"
      },
      "outputs": [],
      "source": [
        "import pandas as pd"
      ]
    },
    {
      "cell_type": "code",
      "source": [
        "donor_df = pd.read_csv('cleanedDonorDetails.csv')"
      ],
      "metadata": {
        "id": "xyZxqxgcmLVe"
      },
      "execution_count": 2,
      "outputs": []
    },
    {
      "cell_type": "code",
      "source": [
        "donor_df.info()"
      ],
      "metadata": {
        "colab": {
          "base_uri": "https://localhost:8080/"
        },
        "id": "Kkx7zmynmT8u",
        "outputId": "297e4d73-90ca-4fab-ad35-43e642287a15"
      },
      "execution_count": 3,
      "outputs": [
        {
          "output_type": "stream",
          "name": "stdout",
          "text": [
            "<class 'pandas.core.frame.DataFrame'>\n",
            "RangeIndex: 82273 entries, 0 to 82272\n",
            "Data columns (total 17 columns):\n",
            " #   Column                       Non-Null Count  Dtype  \n",
            "---  ------                       --------------  -----  \n",
            " 0   donation_year                82273 non-null  int64  \n",
            " 1   donor_name                   82273 non-null  object \n",
            " 2   donor_city                   82164 non-null  object \n",
            " 3   donor_province               82124 non-null  object \n",
            " 4   donation_amount              82273 non-null  float64\n",
            " 5   donation_in_kind             82273 non-null  float64\n",
            " 6   charity_link                 82273 non-null  object \n",
            " 7   charity_name                 82273 non-null  object \n",
            " 8   charity_type                 82273 non-null  object \n",
            " 9   charity_sub_category         82273 non-null  object \n",
            " 10  charity_description          82273 non-null  object \n",
            " 11  charity_registration_number  82273 non-null  object \n",
            " 12  charity_website              59109 non-null  object \n",
            " 13  charity_country              82273 non-null  object \n",
            " 14  charity_province             82273 non-null  object \n",
            " 15  charity_city                 82273 non-null  object \n",
            " 16  charity_employee_range       82273 non-null  int64  \n",
            "dtypes: float64(2), int64(2), object(13)\n",
            "memory usage: 10.7+ MB\n"
          ]
        }
      ]
    },
    {
      "cell_type": "code",
      "source": [
        "donor_df.columns"
      ],
      "metadata": {
        "colab": {
          "base_uri": "https://localhost:8080/"
        },
        "id": "IWMJgxPnmWnW",
        "outputId": "7db5942f-0ecc-40b0-8943-60a015b33a33"
      },
      "execution_count": 4,
      "outputs": [
        {
          "output_type": "execute_result",
          "data": {
            "text/plain": [
              "Index(['donation_year', 'donor_name', 'donor_city', 'donor_province',\n",
              "       'donation_amount', 'donation_in_kind', 'charity_link', 'charity_name',\n",
              "       'charity_type', 'charity_sub_category', 'charity_description',\n",
              "       'charity_registration_number', 'charity_website', 'charity_country',\n",
              "       'charity_province', 'charity_city', 'charity_employee_range'],\n",
              "      dtype='object')"
            ]
          },
          "metadata": {},
          "execution_count": 4
        }
      ]
    },
    {
      "cell_type": "markdown",
      "source": [
        "How many donations have the donors made every year? (2018 to 2021)"
      ],
      "metadata": {
        "id": "GdEXgz0nmxRu"
      }
    },
    {
      "cell_type": "code",
      "source": [
        "donations_per_year = donor_df.groupby(['donation_year','donor_name'])['donation_amount'].count()"
      ],
      "metadata": {
        "id": "eY9KcgtLmwW3"
      },
      "execution_count": 5,
      "outputs": []
    },
    {
      "cell_type": "code",
      "source": [
        "donations_per_year.head()"
      ],
      "metadata": {
        "colab": {
          "base_uri": "https://localhost:8080/"
        },
        "id": "eB0m9-aMm5R9",
        "outputId": "384b7c24-e237-453c-a68e-70d23d92f358"
      },
      "execution_count": 6,
      "outputs": [
        {
          "output_type": "execute_result",
          "data": {
            "text/plain": [
              "donation_year  donor_name                                       \n",
              "2018           \"ON EAGLES WINGS\" MINISTRIES                         1\n",
              "               1-R32 Foundation                                     3\n",
              "               1000 ISLANDS MONTHLY MEETING, SOCIETY OF FRIENDS,    2\n",
              "               1ST ST JOHN'S LUTHERAN CHURCH                        1\n",
              "               3545261 Canada Fondation                             1\n",
              "Name: donation_amount, dtype: int64"
            ]
          },
          "metadata": {},
          "execution_count": 6
        }
      ]
    },
    {
      "cell_type": "code",
      "source": [
        "donations_per_year[donations_per_year > 5]"
      ],
      "metadata": {
        "colab": {
          "base_uri": "https://localhost:8080/"
        },
        "id": "YvR0eJGqnHpU",
        "outputId": "9115cf21-3b2b-4101-8fa9-478d39ab070c"
      },
      "execution_count": 7,
      "outputs": [
        {
          "output_type": "execute_result",
          "data": {
            "text/plain": [
              "donation_year  donor_name                                                                           \n",
              "2018           479 Foundation                                                                            8\n",
              "               AARON AND SUSAN LIEBERMAN FOUNDATION                                                      9\n",
              "               ABC BENEFITS CORPORATION FOUNDATION                                                      15\n",
              "               ABRAHAM BLEEMAN FOUNDATION                                                               20\n",
              "               ABUNDANCE CANADA                                                                         83\n",
              "                                                                                                        ..\n",
              "2021           Winnipeg Arts Council Inc.                                                               10\n",
              "               Y.P.HEUNG FOUNDATION                                                                      7\n",
              "               YOUTH AND PHILANTHROPY INITIATIVE CANADA/ INITIATIVE CANADA JEUNESSE ET PHILANTHROPIE    10\n",
              "               ZLC FOUNDATION                                                                           25\n",
              "               École de Technologie Supérieure                                                          10\n",
              "Name: donation_amount, Length: 1875, dtype: int64"
            ]
          },
          "metadata": {},
          "execution_count": 7
        }
      ]
    },
    {
      "cell_type": "markdown",
      "source": [
        "Total number of donations ever made by a donor"
      ],
      "metadata": {
        "id": "_nOcqBQxrAcK"
      }
    },
    {
      "cell_type": "code",
      "source": [
        "donations_total = donor_df.groupby(['donor_name'])['donation_amount'].count()"
      ],
      "metadata": {
        "id": "Z56EGCCwsIth"
      },
      "execution_count": 8,
      "outputs": []
    },
    {
      "cell_type": "code",
      "source": [
        "donations_total.head()"
      ],
      "metadata": {
        "colab": {
          "base_uri": "https://localhost:8080/"
        },
        "id": "zEuwHnwWsT9p",
        "outputId": "94e3c5c0-e5a0-43ab-f2aa-829efaaf1298"
      },
      "execution_count": 9,
      "outputs": [
        {
          "output_type": "execute_result",
          "data": {
            "text/plain": [
              "donor_name\n",
              "\"ON EAGLES WINGS\" MINISTRIES                          3\n",
              "1-R32 Foundation                                     11\n",
              "1000 ISLANDS MONTHLY MEETING, SOCIETY OF FRIENDS,     8\n",
              "1ST ST JOHN'S LUTHERAN CHURCH                         4\n",
              "3545261 Canada Fondation                              1\n",
              "Name: donation_amount, dtype: int64"
            ]
          },
          "metadata": {},
          "execution_count": 9
        }
      ]
    },
    {
      "cell_type": "markdown",
      "source": [
        "If a particular donor has made only one donation in the period of 4 years, then they don't have to considered for potential list of donors. Similarly donors with less than 4 donations don't have to be considered."
      ],
      "metadata": {
        "id": "iWh9nmj6sYbK"
      }
    },
    {
      "cell_type": "code",
      "source": [
        "def is_same_province(row):\n",
        "    if row['donor_province'] == row['charity_province']:\n",
        "        return 1\n",
        "    else:\n",
        "        return 0\n",
        "\n",
        "donor_df['is_same_province'] = donor_df.apply(is_same_province, axis=1)"
      ],
      "metadata": {
        "id": "yBcv3w7pk6PP"
      },
      "execution_count": 10,
      "outputs": []
    },
    {
      "cell_type": "code",
      "source": [
        "donor_df.head()"
      ],
      "metadata": {
        "colab": {
          "base_uri": "https://localhost:8080/",
          "height": 530
        },
        "id": "dCMiK0E7lFUO",
        "outputId": "cf77f5a2-4958-44c6-df52-416497d74e3d"
      },
      "execution_count": 11,
      "outputs": [
        {
          "output_type": "execute_result",
          "data": {
            "text/plain": [
              "   donation_year                                         donor_name  \\\n",
              "0           2019  THE MACDONALD STEWART FOUNDATION - LA FONDATIO...   \n",
              "1           2018  THE MACDONALD STEWART FOUNDATION - LA FONDATIO...   \n",
              "2           2021                                CANADAHELPS CANADON   \n",
              "3           2021                               KIND CANADA GÉNÉREUX   \n",
              "4           2021  UNITED WAY EAST ONTARIO / CENTRAIDE EST DE L'O...   \n",
              "\n",
              "  donor_city donor_province  donation_amount  donation_in_kind  \\\n",
              "0   MONTREAL             QC          14000.0               0.0   \n",
              "1   MONTREAL             QC           5000.0               0.0   \n",
              "2    TORONTO             ON           7286.0               0.0   \n",
              "3     OTTAWA             ON            500.0               0.0   \n",
              "4     OTTAWA             ON            360.0               0.0   \n",
              "\n",
              "                                        charity_link  \\\n",
              "0  https://www.charitydata.ca/charity/78th-fraser...   \n",
              "1  https://www.charitydata.ca/charity/78th-fraser...   \n",
              "2  https://www.charitydata.ca/charity/a-company-o...   \n",
              "3  https://www.charitydata.ca/charity/a-company-o...   \n",
              "4  https://www.charitydata.ca/charity/a-company-o...   \n",
              "\n",
              "                                        charity_name  \\\n",
              "0  78TH FRASER HIGHLANDERS - FORT VICTORIA HISTOR...   \n",
              "1  78TH FRASER HIGHLANDERS - FORT VICTORIA HISTOR...   \n",
              "2                     A COMPANY OF FOOLS THEATRE INC   \n",
              "3                     A COMPANY OF FOOLS THEATRE INC   \n",
              "4                     A COMPANY OF FOOLS THEATRE INC   \n",
              "\n",
              "               charity_type  \\\n",
              "0  Advancement of Education   \n",
              "1  Advancement of Education   \n",
              "2  Advancement of Education   \n",
              "3  Advancement of Education   \n",
              "4  Advancement of Education   \n",
              "\n",
              "                                charity_sub_category      charity_description  \\\n",
              "0  Educational organizations not elsewhere catego...  Charitable Organization   \n",
              "1  Educational organizations not elsewhere catego...  Charitable Organization   \n",
              "2  Education in the arts / Theatre / film / drama...  Charitable Organization   \n",
              "3  Education in the arts / Theatre / film / drama...  Charitable Organization   \n",
              "4  Education in the arts / Theatre / film / drama...  Charitable Organization   \n",
              "\n",
              "  charity_registration_number          charity_website charity_country  \\\n",
              "0             845496207RR0001  WWW.78FRASERVICTORIA.CA              CA   \n",
              "1             845496207RR0001  WWW.78FRASERVICTORIA.CA              CA   \n",
              "2             879738623RR0001             WWW.FOOLS.CA              CA   \n",
              "3             879738623RR0001             WWW.FOOLS.CA              CA   \n",
              "4             879738623RR0001             WWW.FOOLS.CA              CA   \n",
              "\n",
              "  charity_province charity_city  charity_employee_range  is_same_province  \n",
              "0               BC       SIDNEY                       0                 0  \n",
              "1               BC       SIDNEY                       0                 0  \n",
              "2               ON       OTTAWA                       0                 1  \n",
              "3               ON       OTTAWA                       0                 1  \n",
              "4               ON       OTTAWA                       0                 1  "
            ],
            "text/html": [
              "\n",
              "  <div id=\"df-9447bfe9-9e3f-484c-b5f3-e37365b5f3fb\">\n",
              "    <div class=\"colab-df-container\">\n",
              "      <div>\n",
              "<style scoped>\n",
              "    .dataframe tbody tr th:only-of-type {\n",
              "        vertical-align: middle;\n",
              "    }\n",
              "\n",
              "    .dataframe tbody tr th {\n",
              "        vertical-align: top;\n",
              "    }\n",
              "\n",
              "    .dataframe thead th {\n",
              "        text-align: right;\n",
              "    }\n",
              "</style>\n",
              "<table border=\"1\" class=\"dataframe\">\n",
              "  <thead>\n",
              "    <tr style=\"text-align: right;\">\n",
              "      <th></th>\n",
              "      <th>donation_year</th>\n",
              "      <th>donor_name</th>\n",
              "      <th>donor_city</th>\n",
              "      <th>donor_province</th>\n",
              "      <th>donation_amount</th>\n",
              "      <th>donation_in_kind</th>\n",
              "      <th>charity_link</th>\n",
              "      <th>charity_name</th>\n",
              "      <th>charity_type</th>\n",
              "      <th>charity_sub_category</th>\n",
              "      <th>charity_description</th>\n",
              "      <th>charity_registration_number</th>\n",
              "      <th>charity_website</th>\n",
              "      <th>charity_country</th>\n",
              "      <th>charity_province</th>\n",
              "      <th>charity_city</th>\n",
              "      <th>charity_employee_range</th>\n",
              "      <th>is_same_province</th>\n",
              "    </tr>\n",
              "  </thead>\n",
              "  <tbody>\n",
              "    <tr>\n",
              "      <th>0</th>\n",
              "      <td>2019</td>\n",
              "      <td>THE MACDONALD STEWART FOUNDATION - LA FONDATIO...</td>\n",
              "      <td>MONTREAL</td>\n",
              "      <td>QC</td>\n",
              "      <td>14000.0</td>\n",
              "      <td>0.0</td>\n",
              "      <td>https://www.charitydata.ca/charity/78th-fraser...</td>\n",
              "      <td>78TH FRASER HIGHLANDERS - FORT VICTORIA HISTOR...</td>\n",
              "      <td>Advancement of Education</td>\n",
              "      <td>Educational organizations not elsewhere catego...</td>\n",
              "      <td>Charitable Organization</td>\n",
              "      <td>845496207RR0001</td>\n",
              "      <td>WWW.78FRASERVICTORIA.CA</td>\n",
              "      <td>CA</td>\n",
              "      <td>BC</td>\n",
              "      <td>SIDNEY</td>\n",
              "      <td>0</td>\n",
              "      <td>0</td>\n",
              "    </tr>\n",
              "    <tr>\n",
              "      <th>1</th>\n",
              "      <td>2018</td>\n",
              "      <td>THE MACDONALD STEWART FOUNDATION - LA FONDATIO...</td>\n",
              "      <td>MONTREAL</td>\n",
              "      <td>QC</td>\n",
              "      <td>5000.0</td>\n",
              "      <td>0.0</td>\n",
              "      <td>https://www.charitydata.ca/charity/78th-fraser...</td>\n",
              "      <td>78TH FRASER HIGHLANDERS - FORT VICTORIA HISTOR...</td>\n",
              "      <td>Advancement of Education</td>\n",
              "      <td>Educational organizations not elsewhere catego...</td>\n",
              "      <td>Charitable Organization</td>\n",
              "      <td>845496207RR0001</td>\n",
              "      <td>WWW.78FRASERVICTORIA.CA</td>\n",
              "      <td>CA</td>\n",
              "      <td>BC</td>\n",
              "      <td>SIDNEY</td>\n",
              "      <td>0</td>\n",
              "      <td>0</td>\n",
              "    </tr>\n",
              "    <tr>\n",
              "      <th>2</th>\n",
              "      <td>2021</td>\n",
              "      <td>CANADAHELPS CANADON</td>\n",
              "      <td>TORONTO</td>\n",
              "      <td>ON</td>\n",
              "      <td>7286.0</td>\n",
              "      <td>0.0</td>\n",
              "      <td>https://www.charitydata.ca/charity/a-company-o...</td>\n",
              "      <td>A COMPANY OF FOOLS THEATRE INC</td>\n",
              "      <td>Advancement of Education</td>\n",
              "      <td>Education in the arts / Theatre / film / drama...</td>\n",
              "      <td>Charitable Organization</td>\n",
              "      <td>879738623RR0001</td>\n",
              "      <td>WWW.FOOLS.CA</td>\n",
              "      <td>CA</td>\n",
              "      <td>ON</td>\n",
              "      <td>OTTAWA</td>\n",
              "      <td>0</td>\n",
              "      <td>1</td>\n",
              "    </tr>\n",
              "    <tr>\n",
              "      <th>3</th>\n",
              "      <td>2021</td>\n",
              "      <td>KIND CANADA GÉNÉREUX</td>\n",
              "      <td>OTTAWA</td>\n",
              "      <td>ON</td>\n",
              "      <td>500.0</td>\n",
              "      <td>0.0</td>\n",
              "      <td>https://www.charitydata.ca/charity/a-company-o...</td>\n",
              "      <td>A COMPANY OF FOOLS THEATRE INC</td>\n",
              "      <td>Advancement of Education</td>\n",
              "      <td>Education in the arts / Theatre / film / drama...</td>\n",
              "      <td>Charitable Organization</td>\n",
              "      <td>879738623RR0001</td>\n",
              "      <td>WWW.FOOLS.CA</td>\n",
              "      <td>CA</td>\n",
              "      <td>ON</td>\n",
              "      <td>OTTAWA</td>\n",
              "      <td>0</td>\n",
              "      <td>1</td>\n",
              "    </tr>\n",
              "    <tr>\n",
              "      <th>4</th>\n",
              "      <td>2021</td>\n",
              "      <td>UNITED WAY EAST ONTARIO / CENTRAIDE EST DE L'O...</td>\n",
              "      <td>OTTAWA</td>\n",
              "      <td>ON</td>\n",
              "      <td>360.0</td>\n",
              "      <td>0.0</td>\n",
              "      <td>https://www.charitydata.ca/charity/a-company-o...</td>\n",
              "      <td>A COMPANY OF FOOLS THEATRE INC</td>\n",
              "      <td>Advancement of Education</td>\n",
              "      <td>Education in the arts / Theatre / film / drama...</td>\n",
              "      <td>Charitable Organization</td>\n",
              "      <td>879738623RR0001</td>\n",
              "      <td>WWW.FOOLS.CA</td>\n",
              "      <td>CA</td>\n",
              "      <td>ON</td>\n",
              "      <td>OTTAWA</td>\n",
              "      <td>0</td>\n",
              "      <td>1</td>\n",
              "    </tr>\n",
              "  </tbody>\n",
              "</table>\n",
              "</div>\n",
              "      <button class=\"colab-df-convert\" onclick=\"convertToInteractive('df-9447bfe9-9e3f-484c-b5f3-e37365b5f3fb')\"\n",
              "              title=\"Convert this dataframe to an interactive table.\"\n",
              "              style=\"display:none;\">\n",
              "        \n",
              "  <svg xmlns=\"http://www.w3.org/2000/svg\" height=\"24px\"viewBox=\"0 0 24 24\"\n",
              "       width=\"24px\">\n",
              "    <path d=\"M0 0h24v24H0V0z\" fill=\"none\"/>\n",
              "    <path d=\"M18.56 5.44l.94 2.06.94-2.06 2.06-.94-2.06-.94-.94-2.06-.94 2.06-2.06.94zm-11 1L8.5 8.5l.94-2.06 2.06-.94-2.06-.94L8.5 2.5l-.94 2.06-2.06.94zm10 10l.94 2.06.94-2.06 2.06-.94-2.06-.94-.94-2.06-.94 2.06-2.06.94z\"/><path d=\"M17.41 7.96l-1.37-1.37c-.4-.4-.92-.59-1.43-.59-.52 0-1.04.2-1.43.59L10.3 9.45l-7.72 7.72c-.78.78-.78 2.05 0 2.83L4 21.41c.39.39.9.59 1.41.59.51 0 1.02-.2 1.41-.59l7.78-7.78 2.81-2.81c.8-.78.8-2.07 0-2.86zM5.41 20L4 18.59l7.72-7.72 1.47 1.35L5.41 20z\"/>\n",
              "  </svg>\n",
              "      </button>\n",
              "      \n",
              "  <style>\n",
              "    .colab-df-container {\n",
              "      display:flex;\n",
              "      flex-wrap:wrap;\n",
              "      gap: 12px;\n",
              "    }\n",
              "\n",
              "    .colab-df-convert {\n",
              "      background-color: #E8F0FE;\n",
              "      border: none;\n",
              "      border-radius: 50%;\n",
              "      cursor: pointer;\n",
              "      display: none;\n",
              "      fill: #1967D2;\n",
              "      height: 32px;\n",
              "      padding: 0 0 0 0;\n",
              "      width: 32px;\n",
              "    }\n",
              "\n",
              "    .colab-df-convert:hover {\n",
              "      background-color: #E2EBFA;\n",
              "      box-shadow: 0px 1px 2px rgba(60, 64, 67, 0.3), 0px 1px 3px 1px rgba(60, 64, 67, 0.15);\n",
              "      fill: #174EA6;\n",
              "    }\n",
              "\n",
              "    [theme=dark] .colab-df-convert {\n",
              "      background-color: #3B4455;\n",
              "      fill: #D2E3FC;\n",
              "    }\n",
              "\n",
              "    [theme=dark] .colab-df-convert:hover {\n",
              "      background-color: #434B5C;\n",
              "      box-shadow: 0px 1px 3px 1px rgba(0, 0, 0, 0.15);\n",
              "      filter: drop-shadow(0px 1px 2px rgba(0, 0, 0, 0.3));\n",
              "      fill: #FFFFFF;\n",
              "    }\n",
              "  </style>\n",
              "\n",
              "      <script>\n",
              "        const buttonEl =\n",
              "          document.querySelector('#df-9447bfe9-9e3f-484c-b5f3-e37365b5f3fb button.colab-df-convert');\n",
              "        buttonEl.style.display =\n",
              "          google.colab.kernel.accessAllowed ? 'block' : 'none';\n",
              "\n",
              "        async function convertToInteractive(key) {\n",
              "          const element = document.querySelector('#df-9447bfe9-9e3f-484c-b5f3-e37365b5f3fb');\n",
              "          const dataTable =\n",
              "            await google.colab.kernel.invokeFunction('convertToInteractive',\n",
              "                                                     [key], {});\n",
              "          if (!dataTable) return;\n",
              "\n",
              "          const docLinkHtml = 'Like what you see? Visit the ' +\n",
              "            '<a target=\"_blank\" href=https://colab.research.google.com/notebooks/data_table.ipynb>data table notebook</a>'\n",
              "            + ' to learn more about interactive tables.';\n",
              "          element.innerHTML = '';\n",
              "          dataTable['output_type'] = 'display_data';\n",
              "          await google.colab.output.renderOutput(dataTable, element);\n",
              "          const docLink = document.createElement('div');\n",
              "          docLink.innerHTML = docLinkHtml;\n",
              "          element.appendChild(docLink);\n",
              "        }\n",
              "      </script>\n",
              "    </div>\n",
              "  </div>\n",
              "  "
            ]
          },
          "metadata": {},
          "execution_count": 11
        }
      ]
    },
    {
      "cell_type": "code",
      "source": [
        "donor_df['is_same_province'].value_counts()"
      ],
      "metadata": {
        "colab": {
          "base_uri": "https://localhost:8080/"
        },
        "id": "8ueX7s3JlKLW",
        "outputId": "c4dc0cc0-db2f-4e2d-851e-d3962bd871b2"
      },
      "execution_count": 12,
      "outputs": [
        {
          "output_type": "execute_result",
          "data": {
            "text/plain": [
              "1    56233\n",
              "0    26040\n",
              "Name: is_same_province, dtype: int64"
            ]
          },
          "metadata": {},
          "execution_count": 12
        }
      ]
    },
    {
      "cell_type": "markdown",
      "source": [
        "Get the list of unique donors with the total number of donations they have made, donations per year, donations for each sub category, count of donations for charities in different provinces, average amount spent on donations, minimum donation_amount, maximum donation_amount, city, province, donated to charity with employee range "
      ],
      "metadata": {
        "id": "9vpyAs3RtmHg"
      }
    },
    {
      "cell_type": "code",
      "source": [
        "donor_stats = donor_df.groupby(['donor_name','donor_province', 'donor_city']).agg({\n",
        "    'donation_amount': ['count', 'sum', 'mean', 'min', 'max'],\n",
        "    'donation_year': lambda x: x.value_counts().to_dict(),\n",
        "    'charity_name': lambda x: x.value_counts().to_dict(),\n",
        "    # 'charity_sub_category': lambda x: x.value_counts().to_dict(),\n",
        "    'charity_sub_category': lambda x: x.mode()[0],\n",
        "    'charity_province': lambda x: x.value_counts().to_dict(),\n",
        "    'charity_city': lambda x: x.value_counts().to_dict(),\n",
        "    'charity_employee_range':  lambda x: x.mode()[0],\n",
        "})\n",
        "\n"
      ],
      "metadata": {
        "id": "Fzwv0JRXrPYk"
      },
      "execution_count": 13,
      "outputs": []
    },
    {
      "cell_type": "code",
      "source": [
        "# Rename the columns \n",
        "donor_stats.columns = ['total_donations', 'total_donation_amount', 'avg_donation_amount',\n",
        "                       'min_donation_amount', 'max_donation_amount', \n",
        "                       'total_donation_years', 'charities_supported',\n",
        "                       'frequent_sub_category', \n",
        "                       'donations_per_province', 'donations_per_city',\n",
        "                       'donations_per_employee_range']\n",
        "\n",
        "# Reset the index \n",
        "donor_stats = donor_stats.reset_index()"
      ],
      "metadata": {
        "id": "_TmVCAfvv71Y"
      },
      "execution_count": 14,
      "outputs": []
    },
    {
      "cell_type": "code",
      "source": [
        "donor_stats['donation_consistency'] = donor_stats['total_donation_years'].apply(lambda x: len(x))"
      ],
      "metadata": {
        "id": "OVG45LfS0zKj"
      },
      "execution_count": 15,
      "outputs": []
    },
    {
      "cell_type": "code",
      "source": [
        "donor_stats.tail()"
      ],
      "metadata": {
        "colab": {
          "base_uri": "https://localhost:8080/",
          "height": 354
        },
        "id": "4m5dSlZUwZel",
        "outputId": "bb8b6a2e-5e5b-4de8-e666-8cfe07bc2d13"
      },
      "execution_count": 20,
      "outputs": [
        {
          "output_type": "execute_result",
          "data": {
            "text/plain": [
              "                                             donor_name donor_province  \\\n",
              "8524           Église la Citadelle / The Citadel Church             QC   \n",
              "8525                                    Église le Phare             QC   \n",
              "8526                 Église le contact / Contact Church             QC   \n",
              "8527  Église westside gathering/ Westside gathering ...             QC   \n",
              "8528                   Église Évangélique de Chicoutimi             QC   \n",
              "\n",
              "         donor_city  total_donations  donations_per_employee_range  \\\n",
              "8524       MONTREAL                1                             2   \n",
              "8525    SOREL-TRACY                4                             2   \n",
              "8526     REPENTIGNY                3                             2   \n",
              "8527  POINTE-CLAIRE                2                             5   \n",
              "8528       SAGUENAY                4                             4   \n",
              "\n",
              "      donation_consistency  \n",
              "8524                     1  \n",
              "8525                     4  \n",
              "8526                     3  \n",
              "8527                     2  \n",
              "8528                     4  "
            ],
            "text/html": [
              "\n",
              "  <div id=\"df-38ba1228-163b-40ad-a099-aac3b097c0e0\">\n",
              "    <div class=\"colab-df-container\">\n",
              "      <div>\n",
              "<style scoped>\n",
              "    .dataframe tbody tr th:only-of-type {\n",
              "        vertical-align: middle;\n",
              "    }\n",
              "\n",
              "    .dataframe tbody tr th {\n",
              "        vertical-align: top;\n",
              "    }\n",
              "\n",
              "    .dataframe thead th {\n",
              "        text-align: right;\n",
              "    }\n",
              "</style>\n",
              "<table border=\"1\" class=\"dataframe\">\n",
              "  <thead>\n",
              "    <tr style=\"text-align: right;\">\n",
              "      <th></th>\n",
              "      <th>donor_name</th>\n",
              "      <th>donor_province</th>\n",
              "      <th>donor_city</th>\n",
              "      <th>total_donations</th>\n",
              "      <th>donations_per_employee_range</th>\n",
              "      <th>donation_consistency</th>\n",
              "    </tr>\n",
              "  </thead>\n",
              "  <tbody>\n",
              "    <tr>\n",
              "      <th>8524</th>\n",
              "      <td>Église la Citadelle / The Citadel Church</td>\n",
              "      <td>QC</td>\n",
              "      <td>MONTREAL</td>\n",
              "      <td>1</td>\n",
              "      <td>2</td>\n",
              "      <td>1</td>\n",
              "    </tr>\n",
              "    <tr>\n",
              "      <th>8525</th>\n",
              "      <td>Église le Phare</td>\n",
              "      <td>QC</td>\n",
              "      <td>SOREL-TRACY</td>\n",
              "      <td>4</td>\n",
              "      <td>2</td>\n",
              "      <td>4</td>\n",
              "    </tr>\n",
              "    <tr>\n",
              "      <th>8526</th>\n",
              "      <td>Église le contact / Contact Church</td>\n",
              "      <td>QC</td>\n",
              "      <td>REPENTIGNY</td>\n",
              "      <td>3</td>\n",
              "      <td>2</td>\n",
              "      <td>3</td>\n",
              "    </tr>\n",
              "    <tr>\n",
              "      <th>8527</th>\n",
              "      <td>Église westside gathering/ Westside gathering ...</td>\n",
              "      <td>QC</td>\n",
              "      <td>POINTE-CLAIRE</td>\n",
              "      <td>2</td>\n",
              "      <td>5</td>\n",
              "      <td>2</td>\n",
              "    </tr>\n",
              "    <tr>\n",
              "      <th>8528</th>\n",
              "      <td>Église Évangélique de Chicoutimi</td>\n",
              "      <td>QC</td>\n",
              "      <td>SAGUENAY</td>\n",
              "      <td>4</td>\n",
              "      <td>4</td>\n",
              "      <td>4</td>\n",
              "    </tr>\n",
              "  </tbody>\n",
              "</table>\n",
              "</div>\n",
              "      <button class=\"colab-df-convert\" onclick=\"convertToInteractive('df-38ba1228-163b-40ad-a099-aac3b097c0e0')\"\n",
              "              title=\"Convert this dataframe to an interactive table.\"\n",
              "              style=\"display:none;\">\n",
              "        \n",
              "  <svg xmlns=\"http://www.w3.org/2000/svg\" height=\"24px\"viewBox=\"0 0 24 24\"\n",
              "       width=\"24px\">\n",
              "    <path d=\"M0 0h24v24H0V0z\" fill=\"none\"/>\n",
              "    <path d=\"M18.56 5.44l.94 2.06.94-2.06 2.06-.94-2.06-.94-.94-2.06-.94 2.06-2.06.94zm-11 1L8.5 8.5l.94-2.06 2.06-.94-2.06-.94L8.5 2.5l-.94 2.06-2.06.94zm10 10l.94 2.06.94-2.06 2.06-.94-2.06-.94-.94-2.06-.94 2.06-2.06.94z\"/><path d=\"M17.41 7.96l-1.37-1.37c-.4-.4-.92-.59-1.43-.59-.52 0-1.04.2-1.43.59L10.3 9.45l-7.72 7.72c-.78.78-.78 2.05 0 2.83L4 21.41c.39.39.9.59 1.41.59.51 0 1.02-.2 1.41-.59l7.78-7.78 2.81-2.81c.8-.78.8-2.07 0-2.86zM5.41 20L4 18.59l7.72-7.72 1.47 1.35L5.41 20z\"/>\n",
              "  </svg>\n",
              "      </button>\n",
              "      \n",
              "  <style>\n",
              "    .colab-df-container {\n",
              "      display:flex;\n",
              "      flex-wrap:wrap;\n",
              "      gap: 12px;\n",
              "    }\n",
              "\n",
              "    .colab-df-convert {\n",
              "      background-color: #E8F0FE;\n",
              "      border: none;\n",
              "      border-radius: 50%;\n",
              "      cursor: pointer;\n",
              "      display: none;\n",
              "      fill: #1967D2;\n",
              "      height: 32px;\n",
              "      padding: 0 0 0 0;\n",
              "      width: 32px;\n",
              "    }\n",
              "\n",
              "    .colab-df-convert:hover {\n",
              "      background-color: #E2EBFA;\n",
              "      box-shadow: 0px 1px 2px rgba(60, 64, 67, 0.3), 0px 1px 3px 1px rgba(60, 64, 67, 0.15);\n",
              "      fill: #174EA6;\n",
              "    }\n",
              "\n",
              "    [theme=dark] .colab-df-convert {\n",
              "      background-color: #3B4455;\n",
              "      fill: #D2E3FC;\n",
              "    }\n",
              "\n",
              "    [theme=dark] .colab-df-convert:hover {\n",
              "      background-color: #434B5C;\n",
              "      box-shadow: 0px 1px 3px 1px rgba(0, 0, 0, 0.15);\n",
              "      filter: drop-shadow(0px 1px 2px rgba(0, 0, 0, 0.3));\n",
              "      fill: #FFFFFF;\n",
              "    }\n",
              "  </style>\n",
              "\n",
              "      <script>\n",
              "        const buttonEl =\n",
              "          document.querySelector('#df-38ba1228-163b-40ad-a099-aac3b097c0e0 button.colab-df-convert');\n",
              "        buttonEl.style.display =\n",
              "          google.colab.kernel.accessAllowed ? 'block' : 'none';\n",
              "\n",
              "        async function convertToInteractive(key) {\n",
              "          const element = document.querySelector('#df-38ba1228-163b-40ad-a099-aac3b097c0e0');\n",
              "          const dataTable =\n",
              "            await google.colab.kernel.invokeFunction('convertToInteractive',\n",
              "                                                     [key], {});\n",
              "          if (!dataTable) return;\n",
              "\n",
              "          const docLinkHtml = 'Like what you see? Visit the ' +\n",
              "            '<a target=\"_blank\" href=https://colab.research.google.com/notebooks/data_table.ipynb>data table notebook</a>'\n",
              "            + ' to learn more about interactive tables.';\n",
              "          element.innerHTML = '';\n",
              "          dataTable['output_type'] = 'display_data';\n",
              "          await google.colab.output.renderOutput(dataTable, element);\n",
              "          const docLink = document.createElement('div');\n",
              "          docLink.innerHTML = docLinkHtml;\n",
              "          element.appendChild(docLink);\n",
              "        }\n",
              "      </script>\n",
              "    </div>\n",
              "  </div>\n",
              "  "
            ]
          },
          "metadata": {},
          "execution_count": 20
        }
      ]
    },
    {
      "cell_type": "code",
      "source": [
        "donor_stats['frequent_sub_category'] = donor_stats['frequent_sub_category'].apply(lambda x: x.split(' /')[0].strip())"
      ],
      "metadata": {
        "id": "v9rJir4Cwl80"
      },
      "execution_count": 17,
      "outputs": []
    },
    {
      "cell_type": "code",
      "source": [
        "donor_stats['frequent_sub_category'].unique()"
      ],
      "metadata": {
        "colab": {
          "base_uri": "https://localhost:8080/"
        },
        "id": "xdKIV4-KvYEl",
        "outputId": "a8ab9f7c-e050-445e-926e-71c5c25fd738"
      },
      "execution_count": null,
      "outputs": [
        {
          "output_type": "execute_result",
          "data": {
            "text/plain": [
              "array(['Teaching Institutions', 'Foundations Advancing Education',\n",
              "       'Support of schools and education',\n",
              "       'Educational organizations not elsewhere categorized',\n",
              "       'Education in the arts', 'Research'], dtype=object)"
            ]
          },
          "metadata": {},
          "execution_count": 41
        }
      ]
    },
    {
      "cell_type": "code",
      "source": [
        "donor_stats.columns"
      ],
      "metadata": {
        "colab": {
          "base_uri": "https://localhost:8080/"
        },
        "id": "k6i37Ssxmw70",
        "outputId": "68cb51c2-760a-48a3-889e-590b8d722e95"
      },
      "execution_count": 18,
      "outputs": [
        {
          "output_type": "execute_result",
          "data": {
            "text/plain": [
              "Index(['donor_name', 'donor_province', 'donor_city', 'total_donations',\n",
              "       'total_donation_amount', 'avg_donation_amount', 'min_donation_amount',\n",
              "       'max_donation_amount', 'total_donation_years', 'charities_supported',\n",
              "       'frequent_sub_category', 'donations_per_province', 'donations_per_city',\n",
              "       'donations_per_employee_range', 'donation_consistency'],\n",
              "      dtype='object')"
            ]
          },
          "metadata": {},
          "execution_count": 18
        }
      ]
    },
    {
      "cell_type": "code",
      "source": [
        "donor_stats = donor_stats[['donor_name', 'donor_province', 'donor_city', 'total_donations',\n",
        "        'donations_per_employee_range', 'donation_consistency']]"
      ],
      "metadata": {
        "id": "oPyz_1TTm4lD"
      },
      "execution_count": 19,
      "outputs": []
    },
    {
      "cell_type": "code",
      "source": [
        "import json"
      ],
      "metadata": {
        "id": "AkFm5q3huVve"
      },
      "execution_count": 21,
      "outputs": []
    },
    {
      "cell_type": "code",
      "source": [
        "data = donor_stats.to_dict(orient='records')\n",
        "\n",
        "# write the data to a file\n",
        "with open('donor_data.json', 'w') as f:\n",
        "    json.dump(data, f)"
      ],
      "metadata": {
        "id": "IHXclyYSugz9"
      },
      "execution_count": 22,
      "outputs": []
    }
  ]
}