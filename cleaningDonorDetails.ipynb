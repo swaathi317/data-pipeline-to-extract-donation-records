{
  "nbformat": 4,
  "nbformat_minor": 0,
  "metadata": {
    "colab": {
      "provenance": []
    },
    "kernelspec": {
      "name": "python3",
      "display_name": "Python 3"
    },
    "language_info": {
      "name": "python"
    }
  },
  "cells": [
    {
      "cell_type": "code",
      "execution_count": 1,
      "metadata": {
        "id": "0wAfVcqvu-gU"
      },
      "outputs": [],
      "source": [
        "#import libraries\n",
        "import pandas as pd"
      ]
    },
    {
      "cell_type": "code",
      "source": [
        "#read combinedDonorDetailsData.csv\n",
        "\n",
        "donor_df = pd.read_csv('combinedDonorDetailsData.csv')"
      ],
      "metadata": {
        "id": "tCkDKlXrvQZL"
      },
      "execution_count": 2,
      "outputs": []
    },
    {
      "cell_type": "code",
      "source": [
        "donor_df.head()"
      ],
      "metadata": {
        "colab": {
          "base_uri": "https://localhost:8080/",
          "height": 530
        },
        "id": "cRWOUonIvnDa",
        "outputId": "3eeaaa17-f2a8-4277-fdf4-9576cc7865af"
      },
      "execution_count": 3,
      "outputs": [
        {
          "output_type": "execute_result",
          "data": {
            "text/plain": [
              "   donation_year                                         donor_name  \\\n",
              "0           2019  THE MACDONALD STEWART FOUNDATION - LA FONDATIO...   \n",
              "1           2018  THE MACDONALD STEWART FOUNDATION - LA FONDATIO...   \n",
              "2           2021                                CANADAHELPS CANADON   \n",
              "3           2021                               KIND CANADA GÉNÉREUX   \n",
              "4           2021  UNITED WAY EAST ONTARIO / CENTRAIDE EST DE L'O...   \n",
              "\n",
              "  donor_city donor_province donation_amount donation_in_kind  \\\n",
              "0   MONTREAL             QC          14,000                0   \n",
              "1   MONTREAL             QC           5,000                0   \n",
              "2    TORONTO             ON           7,286                0   \n",
              "3     OTTAWA             ON             500                0   \n",
              "4     OTTAWA             ON             360                0   \n",
              "\n",
              "                                        charity_link  \\\n",
              "0  https://www.charitydata.ca/charity/78th-fraser...   \n",
              "1  https://www.charitydata.ca/charity/78th-fraser...   \n",
              "2  https://www.charitydata.ca/charity/a-company-o...   \n",
              "3  https://www.charitydata.ca/charity/a-company-o...   \n",
              "4  https://www.charitydata.ca/charity/a-company-o...   \n",
              "\n",
              "                                        charity_name  \\\n",
              "0  78TH FRASER HIGHLANDERS - FORT VICTORIA HISTOR...   \n",
              "1  78TH FRASER HIGHLANDERS - FORT VICTORIA HISTOR...   \n",
              "2                     A COMPANY OF FOOLS THEATRE INC   \n",
              "3                     A COMPANY OF FOOLS THEATRE INC   \n",
              "4                     A COMPANY OF FOOLS THEATRE INC   \n",
              "\n",
              "               charity_type  \\\n",
              "0  Advancement of Education   \n",
              "1  Advancement of Education   \n",
              "2  Advancement of Education   \n",
              "3  Advancement of Education   \n",
              "4  Advancement of Education   \n",
              "\n",
              "                                charity_sub_category      charity_description  \\\n",
              "0  Educational organizations not elsewhere catego...  Charitable Organization   \n",
              "1  Educational organizations not elsewhere catego...  Charitable Organization   \n",
              "2  Education in the arts / Theatre / film / drama...  Charitable Organization   \n",
              "3  Education in the arts / Theatre / film / drama...  Charitable Organization   \n",
              "4  Education in the arts / Theatre / film / drama...  Charitable Organization   \n",
              "\n",
              "  charity_registration_number          charity_website charity_country  \\\n",
              "0             845496207RR0001  WWW.78FRASERVICTORIA.CA              CA   \n",
              "1             845496207RR0001  WWW.78FRASERVICTORIA.CA              CA   \n",
              "2             879738623RR0001             WWW.FOOLS.CA              CA   \n",
              "3             879738623RR0001             WWW.FOOLS.CA              CA   \n",
              "4             879738623RR0001             WWW.FOOLS.CA              CA   \n",
              "\n",
              "   charity_province charity_city  charity_employee_range  \n",
              "0  British Columbia       SIDNEY                       0  \n",
              "1  British Columbia       SIDNEY                       0  \n",
              "2           Ontario       OTTAWA                       0  \n",
              "3           Ontario       OTTAWA                       0  \n",
              "4           Ontario       OTTAWA                       0  "
            ],
            "text/html": [
              "\n",
              "  <div id=\"df-5b1de252-737c-4991-af83-41f716479897\">\n",
              "    <div class=\"colab-df-container\">\n",
              "      <div>\n",
              "<style scoped>\n",
              "    .dataframe tbody tr th:only-of-type {\n",
              "        vertical-align: middle;\n",
              "    }\n",
              "\n",
              "    .dataframe tbody tr th {\n",
              "        vertical-align: top;\n",
              "    }\n",
              "\n",
              "    .dataframe thead th {\n",
              "        text-align: right;\n",
              "    }\n",
              "</style>\n",
              "<table border=\"1\" class=\"dataframe\">\n",
              "  <thead>\n",
              "    <tr style=\"text-align: right;\">\n",
              "      <th></th>\n",
              "      <th>donation_year</th>\n",
              "      <th>donor_name</th>\n",
              "      <th>donor_city</th>\n",
              "      <th>donor_province</th>\n",
              "      <th>donation_amount</th>\n",
              "      <th>donation_in_kind</th>\n",
              "      <th>charity_link</th>\n",
              "      <th>charity_name</th>\n",
              "      <th>charity_type</th>\n",
              "      <th>charity_sub_category</th>\n",
              "      <th>charity_description</th>\n",
              "      <th>charity_registration_number</th>\n",
              "      <th>charity_website</th>\n",
              "      <th>charity_country</th>\n",
              "      <th>charity_province</th>\n",
              "      <th>charity_city</th>\n",
              "      <th>charity_employee_range</th>\n",
              "    </tr>\n",
              "  </thead>\n",
              "  <tbody>\n",
              "    <tr>\n",
              "      <th>0</th>\n",
              "      <td>2019</td>\n",
              "      <td>THE MACDONALD STEWART FOUNDATION - LA FONDATIO...</td>\n",
              "      <td>MONTREAL</td>\n",
              "      <td>QC</td>\n",
              "      <td>14,000</td>\n",
              "      <td>0</td>\n",
              "      <td>https://www.charitydata.ca/charity/78th-fraser...</td>\n",
              "      <td>78TH FRASER HIGHLANDERS - FORT VICTORIA HISTOR...</td>\n",
              "      <td>Advancement of Education</td>\n",
              "      <td>Educational organizations not elsewhere catego...</td>\n",
              "      <td>Charitable Organization</td>\n",
              "      <td>845496207RR0001</td>\n",
              "      <td>WWW.78FRASERVICTORIA.CA</td>\n",
              "      <td>CA</td>\n",
              "      <td>British Columbia</td>\n",
              "      <td>SIDNEY</td>\n",
              "      <td>0</td>\n",
              "    </tr>\n",
              "    <tr>\n",
              "      <th>1</th>\n",
              "      <td>2018</td>\n",
              "      <td>THE MACDONALD STEWART FOUNDATION - LA FONDATIO...</td>\n",
              "      <td>MONTREAL</td>\n",
              "      <td>QC</td>\n",
              "      <td>5,000</td>\n",
              "      <td>0</td>\n",
              "      <td>https://www.charitydata.ca/charity/78th-fraser...</td>\n",
              "      <td>78TH FRASER HIGHLANDERS - FORT VICTORIA HISTOR...</td>\n",
              "      <td>Advancement of Education</td>\n",
              "      <td>Educational organizations not elsewhere catego...</td>\n",
              "      <td>Charitable Organization</td>\n",
              "      <td>845496207RR0001</td>\n",
              "      <td>WWW.78FRASERVICTORIA.CA</td>\n",
              "      <td>CA</td>\n",
              "      <td>British Columbia</td>\n",
              "      <td>SIDNEY</td>\n",
              "      <td>0</td>\n",
              "    </tr>\n",
              "    <tr>\n",
              "      <th>2</th>\n",
              "      <td>2021</td>\n",
              "      <td>CANADAHELPS CANADON</td>\n",
              "      <td>TORONTO</td>\n",
              "      <td>ON</td>\n",
              "      <td>7,286</td>\n",
              "      <td>0</td>\n",
              "      <td>https://www.charitydata.ca/charity/a-company-o...</td>\n",
              "      <td>A COMPANY OF FOOLS THEATRE INC</td>\n",
              "      <td>Advancement of Education</td>\n",
              "      <td>Education in the arts / Theatre / film / drama...</td>\n",
              "      <td>Charitable Organization</td>\n",
              "      <td>879738623RR0001</td>\n",
              "      <td>WWW.FOOLS.CA</td>\n",
              "      <td>CA</td>\n",
              "      <td>Ontario</td>\n",
              "      <td>OTTAWA</td>\n",
              "      <td>0</td>\n",
              "    </tr>\n",
              "    <tr>\n",
              "      <th>3</th>\n",
              "      <td>2021</td>\n",
              "      <td>KIND CANADA GÉNÉREUX</td>\n",
              "      <td>OTTAWA</td>\n",
              "      <td>ON</td>\n",
              "      <td>500</td>\n",
              "      <td>0</td>\n",
              "      <td>https://www.charitydata.ca/charity/a-company-o...</td>\n",
              "      <td>A COMPANY OF FOOLS THEATRE INC</td>\n",
              "      <td>Advancement of Education</td>\n",
              "      <td>Education in the arts / Theatre / film / drama...</td>\n",
              "      <td>Charitable Organization</td>\n",
              "      <td>879738623RR0001</td>\n",
              "      <td>WWW.FOOLS.CA</td>\n",
              "      <td>CA</td>\n",
              "      <td>Ontario</td>\n",
              "      <td>OTTAWA</td>\n",
              "      <td>0</td>\n",
              "    </tr>\n",
              "    <tr>\n",
              "      <th>4</th>\n",
              "      <td>2021</td>\n",
              "      <td>UNITED WAY EAST ONTARIO / CENTRAIDE EST DE L'O...</td>\n",
              "      <td>OTTAWA</td>\n",
              "      <td>ON</td>\n",
              "      <td>360</td>\n",
              "      <td>0</td>\n",
              "      <td>https://www.charitydata.ca/charity/a-company-o...</td>\n",
              "      <td>A COMPANY OF FOOLS THEATRE INC</td>\n",
              "      <td>Advancement of Education</td>\n",
              "      <td>Education in the arts / Theatre / film / drama...</td>\n",
              "      <td>Charitable Organization</td>\n",
              "      <td>879738623RR0001</td>\n",
              "      <td>WWW.FOOLS.CA</td>\n",
              "      <td>CA</td>\n",
              "      <td>Ontario</td>\n",
              "      <td>OTTAWA</td>\n",
              "      <td>0</td>\n",
              "    </tr>\n",
              "  </tbody>\n",
              "</table>\n",
              "</div>\n",
              "      <button class=\"colab-df-convert\" onclick=\"convertToInteractive('df-5b1de252-737c-4991-af83-41f716479897')\"\n",
              "              title=\"Convert this dataframe to an interactive table.\"\n",
              "              style=\"display:none;\">\n",
              "        \n",
              "  <svg xmlns=\"http://www.w3.org/2000/svg\" height=\"24px\"viewBox=\"0 0 24 24\"\n",
              "       width=\"24px\">\n",
              "    <path d=\"M0 0h24v24H0V0z\" fill=\"none\"/>\n",
              "    <path d=\"M18.56 5.44l.94 2.06.94-2.06 2.06-.94-2.06-.94-.94-2.06-.94 2.06-2.06.94zm-11 1L8.5 8.5l.94-2.06 2.06-.94-2.06-.94L8.5 2.5l-.94 2.06-2.06.94zm10 10l.94 2.06.94-2.06 2.06-.94-2.06-.94-.94-2.06-.94 2.06-2.06.94z\"/><path d=\"M17.41 7.96l-1.37-1.37c-.4-.4-.92-.59-1.43-.59-.52 0-1.04.2-1.43.59L10.3 9.45l-7.72 7.72c-.78.78-.78 2.05 0 2.83L4 21.41c.39.39.9.59 1.41.59.51 0 1.02-.2 1.41-.59l7.78-7.78 2.81-2.81c.8-.78.8-2.07 0-2.86zM5.41 20L4 18.59l7.72-7.72 1.47 1.35L5.41 20z\"/>\n",
              "  </svg>\n",
              "      </button>\n",
              "      \n",
              "  <style>\n",
              "    .colab-df-container {\n",
              "      display:flex;\n",
              "      flex-wrap:wrap;\n",
              "      gap: 12px;\n",
              "    }\n",
              "\n",
              "    .colab-df-convert {\n",
              "      background-color: #E8F0FE;\n",
              "      border: none;\n",
              "      border-radius: 50%;\n",
              "      cursor: pointer;\n",
              "      display: none;\n",
              "      fill: #1967D2;\n",
              "      height: 32px;\n",
              "      padding: 0 0 0 0;\n",
              "      width: 32px;\n",
              "    }\n",
              "\n",
              "    .colab-df-convert:hover {\n",
              "      background-color: #E2EBFA;\n",
              "      box-shadow: 0px 1px 2px rgba(60, 64, 67, 0.3), 0px 1px 3px 1px rgba(60, 64, 67, 0.15);\n",
              "      fill: #174EA6;\n",
              "    }\n",
              "\n",
              "    [theme=dark] .colab-df-convert {\n",
              "      background-color: #3B4455;\n",
              "      fill: #D2E3FC;\n",
              "    }\n",
              "\n",
              "    [theme=dark] .colab-df-convert:hover {\n",
              "      background-color: #434B5C;\n",
              "      box-shadow: 0px 1px 3px 1px rgba(0, 0, 0, 0.15);\n",
              "      filter: drop-shadow(0px 1px 2px rgba(0, 0, 0, 0.3));\n",
              "      fill: #FFFFFF;\n",
              "    }\n",
              "  </style>\n",
              "\n",
              "      <script>\n",
              "        const buttonEl =\n",
              "          document.querySelector('#df-5b1de252-737c-4991-af83-41f716479897 button.colab-df-convert');\n",
              "        buttonEl.style.display =\n",
              "          google.colab.kernel.accessAllowed ? 'block' : 'none';\n",
              "\n",
              "        async function convertToInteractive(key) {\n",
              "          const element = document.querySelector('#df-5b1de252-737c-4991-af83-41f716479897');\n",
              "          const dataTable =\n",
              "            await google.colab.kernel.invokeFunction('convertToInteractive',\n",
              "                                                     [key], {});\n",
              "          if (!dataTable) return;\n",
              "\n",
              "          const docLinkHtml = 'Like what you see? Visit the ' +\n",
              "            '<a target=\"_blank\" href=https://colab.research.google.com/notebooks/data_table.ipynb>data table notebook</a>'\n",
              "            + ' to learn more about interactive tables.';\n",
              "          element.innerHTML = '';\n",
              "          dataTable['output_type'] = 'display_data';\n",
              "          await google.colab.output.renderOutput(dataTable, element);\n",
              "          const docLink = document.createElement('div');\n",
              "          docLink.innerHTML = docLinkHtml;\n",
              "          element.appendChild(docLink);\n",
              "        }\n",
              "      </script>\n",
              "    </div>\n",
              "  </div>\n",
              "  "
            ]
          },
          "metadata": {},
          "execution_count": 3
        }
      ]
    },
    {
      "cell_type": "code",
      "source": [
        "donor_df.info()"
      ],
      "metadata": {
        "colab": {
          "base_uri": "https://localhost:8080/"
        },
        "id": "RJA8tP_lvrcq",
        "outputId": "b9a40b90-e2b5-4683-bf05-7b9b10c6ad9b"
      },
      "execution_count": 4,
      "outputs": [
        {
          "output_type": "stream",
          "name": "stdout",
          "text": [
            "<class 'pandas.core.frame.DataFrame'>\n",
            "RangeIndex: 83528 entries, 0 to 83527\n",
            "Data columns (total 17 columns):\n",
            " #   Column                       Non-Null Count  Dtype \n",
            "---  ------                       --------------  ----- \n",
            " 0   donation_year                83528 non-null  int64 \n",
            " 1   donor_name                   83527 non-null  object\n",
            " 2   donor_city                   83418 non-null  object\n",
            " 3   donor_province               83378 non-null  object\n",
            " 4   donation_amount              83528 non-null  object\n",
            " 5   donation_in_kind             83528 non-null  object\n",
            " 6   charity_link                 83528 non-null  object\n",
            " 7   charity_name                 83528 non-null  object\n",
            " 8   charity_type                 83528 non-null  object\n",
            " 9   charity_sub_category         83528 non-null  object\n",
            " 10  charity_description          83528 non-null  object\n",
            " 11  charity_registration_number  83528 non-null  object\n",
            " 12  charity_website              59791 non-null  object\n",
            " 13  charity_country              83528 non-null  object\n",
            " 14  charity_province             83528 non-null  object\n",
            " 15  charity_city                 83528 non-null  object\n",
            " 16  charity_employee_range       83528 non-null  int64 \n",
            "dtypes: int64(2), object(15)\n",
            "memory usage: 10.8+ MB\n"
          ]
        }
      ]
    },
    {
      "cell_type": "markdown",
      "source": [
        "`donation_amount` and `donation_in_kind` are float values. Hence, change the datatype of these columns"
      ],
      "metadata": {
        "id": "a2uuMBF5v2fq"
      }
    },
    {
      "cell_type": "code",
      "source": [
        "#remove coma from the string values of these columns\n",
        "donor_df['donation_amount'] = donor_df['donation_amount'] .apply(lambda x: x.replace(',', ''))\n",
        "donor_df['donation_in_kind'] = donor_df['donation_in_kind'] .apply(lambda x: x.replace(',', ''))\n",
        "\n",
        "#cast to float\n",
        "donor_df['donation_amount'] = donor_df['donation_amount'].astype(float)\n",
        "donor_df['donation_in_kind'] = donor_df['donation_in_kind'].astype(float)"
      ],
      "metadata": {
        "id": "PuZ5cBCNvuZp"
      },
      "execution_count": 6,
      "outputs": []
    },
    {
      "cell_type": "markdown",
      "source": [
        "Check if `donation_amount` and `donation_in_kind` have 0 as value. Remove the records that have 0 for both these columns"
      ],
      "metadata": {
        "id": "ZuViVpcIxLKk"
      }
    },
    {
      "cell_type": "code",
      "source": [
        "check_zero_df = donor_df.loc[(donor_df['donation_amount'] == 0) & (donor_df['donation_in_kind'] == 0)]"
      ],
      "metadata": {
        "id": "jHTl3KIuxClh"
      },
      "execution_count": 10,
      "outputs": []
    },
    {
      "cell_type": "code",
      "source": [
        "len(check_zero_df)"
      ],
      "metadata": {
        "colab": {
          "base_uri": "https://localhost:8080/"
        },
        "id": "kMMEWAxhxr3_",
        "outputId": "ee7cfca4-927d-4129-d58f-492985432fda"
      },
      "execution_count": 15,
      "outputs": [
        {
          "output_type": "execute_result",
          "data": {
            "text/plain": [
              "1205"
            ]
          },
          "metadata": {},
          "execution_count": 15
        }
      ]
    },
    {
      "cell_type": "markdown",
      "source": [
        "There 1205 records with value 0 for both the columns. Hence, they should be removed."
      ],
      "metadata": {
        "id": "OMDgLiUByEoF"
      }
    },
    {
      "cell_type": "code",
      "source": [
        "donor_df = donor_df.loc[(donor_df['donation_amount'] != 0) | (donor_df['donation_in_kind'] != 0)]"
      ],
      "metadata": {
        "id": "GQQqAMxRyLfv"
      },
      "execution_count": 20,
      "outputs": []
    },
    {
      "cell_type": "markdown",
      "source": [
        "Check if donation_amount and donation_in_kind have negative value. Remove those records"
      ],
      "metadata": {
        "id": "yAbMRv4QysYQ"
      }
    },
    {
      "cell_type": "code",
      "source": [
        "check_negative_df = donor_df.loc[(donor_df['donation_amount'] < 0) | (donor_df['donation_in_kind'] < 0)]"
      ],
      "metadata": {
        "id": "ZnGPzVfFynVY"
      },
      "execution_count": 21,
      "outputs": []
    },
    {
      "cell_type": "code",
      "source": [
        "len(check_negative_df)"
      ],
      "metadata": {
        "colab": {
          "base_uri": "https://localhost:8080/"
        },
        "id": "gBlDGTIjy_wf",
        "outputId": "3f3de9dd-7ab1-44e0-dd69-3793232fd446"
      },
      "execution_count": 22,
      "outputs": [
        {
          "output_type": "execute_result",
          "data": {
            "text/plain": [
              "50"
            ]
          },
          "metadata": {},
          "execution_count": 22
        }
      ]
    },
    {
      "cell_type": "markdown",
      "source": [
        "There are 50 records that have negative values for donation_amount and donation_in_kind. Remove them"
      ],
      "metadata": {
        "id": "Fj31mKXDzCU_"
      }
    },
    {
      "cell_type": "code",
      "source": [
        "donor_df = donor_df.loc[(donor_df['donation_amount'] >= 0) & (donor_df['donation_in_kind'] >= 0)]"
      ],
      "metadata": {
        "id": "cEgiSXtyzBrv"
      },
      "execution_count": 26,
      "outputs": []
    },
    {
      "cell_type": "code",
      "source": [
        "distinct_provinces_donor = donor_df['donor_province'].unique() "
      ],
      "metadata": {
        "id": "mlBxZ0LMzk7n"
      },
      "execution_count": 27,
      "outputs": []
    },
    {
      "cell_type": "code",
      "source": [
        "distinct_provinces_charity = donor_df['charity_province'].unique() "
      ],
      "metadata": {
        "id": "07CaVEVG0BkE"
      },
      "execution_count": 28,
      "outputs": []
    },
    {
      "cell_type": "code",
      "source": [
        "distinct_provinces_donor"
      ],
      "metadata": {
        "colab": {
          "base_uri": "https://localhost:8080/"
        },
        "id": "IDe6UObm0Ges",
        "outputId": "6d4a304c-e0b4-4bce-ceab-e2d6920a2520"
      },
      "execution_count": 29,
      "outputs": [
        {
          "output_type": "execute_result",
          "data": {
            "text/plain": [
              "array(['QC', 'ON', 'AB', nan, 'BC', 'NL', 'MB', 'NS', 'NB', 'PE', 'SK',\n",
              "       'CO', 'FL', 'YT', 'NT', 'CT', 'NY', 'CA'], dtype=object)"
            ]
          },
          "metadata": {},
          "execution_count": 29
        }
      ]
    },
    {
      "cell_type": "code",
      "source": [
        "len(distinct_provinces_donor)"
      ],
      "metadata": {
        "colab": {
          "base_uri": "https://localhost:8080/"
        },
        "id": "060KJLpS5XiY",
        "outputId": "b614d268-57a2-4873-a98a-e6fe0ad53907"
      },
      "execution_count": 31,
      "outputs": [
        {
          "output_type": "execute_result",
          "data": {
            "text/plain": [
              "18"
            ]
          },
          "metadata": {},
          "execution_count": 31
        }
      ]
    },
    {
      "cell_type": "code",
      "source": [
        "distinct_provinces_charity"
      ],
      "metadata": {
        "colab": {
          "base_uri": "https://localhost:8080/"
        },
        "id": "Oqhoi8ff0IkU",
        "outputId": "47908de8-7a5a-413b-93ec-193fad990cfa"
      },
      "execution_count": 30,
      "outputs": [
        {
          "output_type": "execute_result",
          "data": {
            "text/plain": [
              "array(['British Columbia', 'Ontario', 'Quebec',\n",
              "       'Newfoundland and Labrador', 'Prince Edward Island', 'Alberta',\n",
              "       'Manitoba', 'Nova Scotia', 'Saskatchewan', 'New Brunswick',\n",
              "       'Northwest Territories', 'Yukon', 'Nunavut'], dtype=object)"
            ]
          },
          "metadata": {},
          "execution_count": 30
        }
      ]
    },
    {
      "cell_type": "code",
      "source": [
        "len(distinct_provinces_charity)"
      ],
      "metadata": {
        "colab": {
          "base_uri": "https://localhost:8080/"
        },
        "id": "PZRvterZ5Vva",
        "outputId": "0263ca0f-62a4-4c03-96d5-0371209211e9"
      },
      "execution_count": 32,
      "outputs": [
        {
          "output_type": "execute_result",
          "data": {
            "text/plain": [
              "13"
            ]
          },
          "metadata": {},
          "execution_count": 32
        }
      ]
    },
    {
      "cell_type": "code",
      "source": [
        "province_codes = {\n",
        "    \"British Columbia\": \"BC\",\n",
        "    \"Ontario\": \"ON\",\n",
        "    \"Quebec\": \"QC\",\n",
        "    \"Newfoundland and Labrador\": \"NL\",\n",
        "    \"Prince Edward Island\": \"PE\",\n",
        "    \"Alberta\": \"AB\",\n",
        "    \"Manitoba\": \"MB\",\n",
        "    \"Nova Scotia\": \"NS\",\n",
        "    \"Saskatchewan\": \"SK\",\n",
        "    \"New Brunswick\": \"NB\",\n",
        "    \"Northwest Territories\": \"NT\",\n",
        "    \"Yukon\": \"YT\",\n",
        "    \"Nunavut\": \"NU\"\n",
        "}"
      ],
      "metadata": {
        "id": "cAM8pkSf5blM"
      },
      "execution_count": 33,
      "outputs": []
    },
    {
      "cell_type": "code",
      "source": [
        "donor_df['charity_province'] = donor_df['charity_province'].map(province_codes)"
      ],
      "metadata": {
        "id": "wPrYrjrO87OQ"
      },
      "execution_count": 37,
      "outputs": []
    },
    {
      "cell_type": "code",
      "source": [
        "donor_df['charity_province'].unique()"
      ],
      "metadata": {
        "colab": {
          "base_uri": "https://localhost:8080/"
        },
        "id": "ncoHONu-9G-x",
        "outputId": "010eaee3-c6fb-49b8-e2b5-4de0df270433"
      },
      "execution_count": 38,
      "outputs": [
        {
          "output_type": "execute_result",
          "data": {
            "text/plain": [
              "array(['BC', 'ON', 'QC', 'NL', 'PE', 'AB', 'MB', 'NS', 'SK', 'NB', 'NT',\n",
              "       'YT', 'NU'], dtype=object)"
            ]
          },
          "metadata": {},
          "execution_count": 38
        }
      ]
    },
    {
      "cell_type": "code",
      "source": [
        "len(donor_df)"
      ],
      "metadata": {
        "colab": {
          "base_uri": "https://localhost:8080/"
        },
        "id": "CosskMRb9TWt",
        "outputId": "1bdbca62-1c9d-4664-88d2-671c05ebf8e0"
      },
      "execution_count": 40,
      "outputs": [
        {
          "output_type": "execute_result",
          "data": {
            "text/plain": [
              "82273"
            ]
          },
          "metadata": {},
          "execution_count": 40
        }
      ]
    },
    {
      "cell_type": "code",
      "source": [
        "donor_df.to_csv('cleanedDonorDetails.csv', index=False)"
      ],
      "metadata": {
        "id": "BxjCl3Ln9bif"
      },
      "execution_count": 41,
      "outputs": []
    }
  ]
}